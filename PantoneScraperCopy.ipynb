{
  "nbformat": 4,
  "nbformat_minor": 0,
  "metadata": {
    "colab": {
      "name": "PantoneScraperCopy.ipynb",
      "provenance": [],
      "collapsed_sections": [],
      "authorship_tag": "ABX9TyNsi21JFThM0SNFZzKR+rLn",
      "include_colab_link": true
    },
    "kernelspec": {
      "name": "python3",
      "display_name": "Python 3"
    },
    "language_info": {
      "name": "python"
    }
  },
  "cells": [
    {
      "cell_type": "markdown",
      "metadata": {
        "id": "view-in-github",
        "colab_type": "text"
      },
      "source": [
        "<a href=\"https://colab.research.google.com/github/mgkeif/PantoneScraper/blob/main/PantoneScraperCopy.ipynb\" target=\"_parent\"><img src=\"https://colab.research.google.com/assets/colab-badge.svg\" alt=\"Open In Colab\"/></a>"
      ]
    },
    {
      "cell_type": "markdown",
      "metadata": {
        "id": "x-VPTVJzfNuF"
      },
      "source": [
        "##Scraper app to return CMYK values off the Pantone® Connect website based on user input."
      ]
    },
    {
      "cell_type": "markdown",
      "metadata": {
        "id": "tY_m7vYIfg4S"
      },
      "source": [
        "This application looks up values from the Pantone® Connect website: https://www.pantone.com/color-finder. I made a version that loops and returns all values from the Pantone® site writing to a CSV file too. Other iterations are possible too, include looking up L*a*b* values, etc.\n",
        "\n",
        "To proceed, merely run the program by selecting the arrow to the left of the \"Look up CMYK values...\" below. Enter whether you want it from the coated or uncoated libraries and then enter the Pantone® number."
      ]
    },
    {
      "cell_type": "code",
      "metadata": {
        "id": "-JvRQFbw0_xa",
        "cellView": "form"
      },
      "source": [
        "#@title Look up CMYK values by clicking on the arrow to the left.\n",
        "import requests\n",
        "from bs4 import BeautifulSoup\n",
        "\n",
        "c,m,y,k = (0,0,0,0)\n",
        "checkstr = 'cmyk'\n",
        "\n",
        "# Determine pantone number and whether coated or uncoated\n",
        "input_coated = input ('Will this be from the Pantone Coated library? (y=coated, n=uncoated):')\n",
        "input_pantone = input ('Input the pantone number (ex: 201):')\n",
        "pantone_num = int(input_pantone)\n",
        "if input_coated == 'y': \n",
        "  lib = \"C\"\n",
        "elif input_coated == 'n': \n",
        "  lib = 'U'\n",
        "\n",
        "# Get URL\n",
        "initURL = 'https://www.pantone.com/color-finder/'\n",
        "URL = initURL+str(pantone_num)+'-'+lib\n",
        "page = requests.get(URL)\n",
        "\n",
        "# Parse HTML\n",
        "soup = BeautifulSoup(page.content, 'html.parser')\n",
        "results = soup.findAll('script')[2].text\n",
        "\n",
        "# Check for accurate inputs\n",
        "if checkstr in results:\n",
        "    results_split = results.split(',')[6:10]\n",
        "\n",
        "    # Split HTML values into CMYK\n",
        "    c_split = results_split[0]\n",
        "    m_split = results_split[1]\n",
        "    y_split = results_split[2]\n",
        "    k_split = results_split[3]\n",
        "\n",
        "    # Compensate for length in K due to extra characters at end in HTML\n",
        "    klen = int(len(results_split[3])-1)\n",
        "\n",
        "    # Capture CMYK values from HTML and store as integers\n",
        "    c = int(c_split[15:])\n",
        "    m = int(m_split[10:])\n",
        "    y = int(y_split[9:])\n",
        "    k = int(k_split[6:klen])\n",
        "\n",
        "    # Return values\n",
        "    print(F'Pantone {pantone_num}{lib}: Cyan={c}, Magenta={m}, Yellow={y}, Black={k}')\n",
        "\n",
        "# Return error message\n",
        "else:\n",
        "  print(F'No results for {pantone_num}{lib}')"
      ],
      "execution_count": null,
      "outputs": []
    },
    {
      "cell_type": "code",
      "metadata": {
        "id": "pG_U-gL4grcp"
      },
      "source": [
        ""
      ],
      "execution_count": null,
      "outputs": []
    }
  ]
}